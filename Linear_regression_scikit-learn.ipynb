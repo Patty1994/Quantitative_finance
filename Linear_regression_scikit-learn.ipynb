{
 "cells": [
  {
   "cell_type": "code",
   "execution_count": 15,
   "id": "bad51b3b",
   "metadata": {},
   "outputs": [],
   "source": [
    "import pandas as pd\n",
    "import numpy as np\n",
    "import matplotlib.pyplot as plt\n",
    "import math\n",
    "import seaborn as sns\n",
    "%matplotlib inline\n",
    "\n",
    "import warnings\n",
    "warnings.filterwarnings(\"ignore\")\n",
    "\n",
    "import fix_yahoo_finance as yf\n"
   ]
  },
  {
   "cell_type": "code",
   "execution_count": 16,
   "id": "3203ce7c",
   "metadata": {},
   "outputs": [
    {
     "name": "stdout",
     "output_type": "stream",
     "text": [
      "[*********************100%***********************]  1 of 1 completed\n"
     ]
    },
    {
     "data": {
      "text/html": [
       "<div>\n",
       "<style scoped>\n",
       "    .dataframe tbody tr th:only-of-type {\n",
       "        vertical-align: middle;\n",
       "    }\n",
       "\n",
       "    .dataframe tbody tr th {\n",
       "        vertical-align: top;\n",
       "    }\n",
       "\n",
       "    .dataframe thead th {\n",
       "        text-align: right;\n",
       "    }\n",
       "</style>\n",
       "<table border=\"1\" class=\"dataframe\">\n",
       "  <thead>\n",
       "    <tr style=\"text-align: right;\">\n",
       "      <th></th>\n",
       "      <th>Open</th>\n",
       "      <th>High</th>\n",
       "      <th>Low</th>\n",
       "      <th>Close</th>\n",
       "      <th>Adj Close</th>\n",
       "      <th>Volume</th>\n",
       "    </tr>\n",
       "    <tr>\n",
       "      <th>Date</th>\n",
       "      <th></th>\n",
       "      <th></th>\n",
       "      <th></th>\n",
       "      <th></th>\n",
       "      <th></th>\n",
       "      <th></th>\n",
       "    </tr>\n",
       "  </thead>\n",
       "  <tbody>\n",
       "    <tr>\n",
       "      <th>2021-01-04</th>\n",
       "      <td>1760.000000</td>\n",
       "      <td>1762.489990</td>\n",
       "      <td>1707.140015</td>\n",
       "      <td>1726.130005</td>\n",
       "      <td>1726.130005</td>\n",
       "      <td>1866200</td>\n",
       "    </tr>\n",
       "    <tr>\n",
       "      <th>2021-01-05</th>\n",
       "      <td>1725.089966</td>\n",
       "      <td>1746.829956</td>\n",
       "      <td>1716.900024</td>\n",
       "      <td>1740.050049</td>\n",
       "      <td>1740.050049</td>\n",
       "      <td>1018000</td>\n",
       "    </tr>\n",
       "    <tr>\n",
       "      <th>2021-01-06</th>\n",
       "      <td>1700.260010</td>\n",
       "      <td>1743.969971</td>\n",
       "      <td>1696.099976</td>\n",
       "      <td>1722.880005</td>\n",
       "      <td>1722.880005</td>\n",
       "      <td>2329400</td>\n",
       "    </tr>\n",
       "    <tr>\n",
       "      <th>2021-01-07</th>\n",
       "      <td>1726.760010</td>\n",
       "      <td>1777.819946</td>\n",
       "      <td>1726.760010</td>\n",
       "      <td>1774.339966</td>\n",
       "      <td>1774.339966</td>\n",
       "      <td>2096800</td>\n",
       "    </tr>\n",
       "    <tr>\n",
       "      <th>2021-01-08</th>\n",
       "      <td>1777.160034</td>\n",
       "      <td>1799.359985</td>\n",
       "      <td>1761.219971</td>\n",
       "      <td>1797.829956</td>\n",
       "      <td>1797.829956</td>\n",
       "      <td>1774200</td>\n",
       "    </tr>\n",
       "  </tbody>\n",
       "</table>\n",
       "</div>"
      ],
      "text/plain": [
       "                   Open         High          Low        Close    Adj Close  \\\n",
       "Date                                                                          \n",
       "2021-01-04  1760.000000  1762.489990  1707.140015  1726.130005  1726.130005   \n",
       "2021-01-05  1725.089966  1746.829956  1716.900024  1740.050049  1740.050049   \n",
       "2021-01-06  1700.260010  1743.969971  1696.099976  1722.880005  1722.880005   \n",
       "2021-01-07  1726.760010  1777.819946  1726.760010  1774.339966  1774.339966   \n",
       "2021-01-08  1777.160034  1799.359985  1761.219971  1797.829956  1797.829956   \n",
       "\n",
       "             Volume  \n",
       "Date                 \n",
       "2021-01-04  1866200  \n",
       "2021-01-05  1018000  \n",
       "2021-01-06  2329400  \n",
       "2021-01-07  2096800  \n",
       "2021-01-08  1774200  "
      ]
     },
     "execution_count": 16,
     "metadata": {},
     "output_type": "execute_result"
    }
   ],
   "source": [
    "stock = 'GOOGL'\n",
    "start = '2021-01-01' \n",
    "end = '2021-12-31'\n",
    "data = yf.download(stock, start, end)\n",
    "data.head()"
   ]
  },
  {
   "cell_type": "code",
   "execution_count": 18,
   "id": "81376ef5",
   "metadata": {},
   "outputs": [
    {
     "data": {
      "text/html": [
       "<div>\n",
       "<style scoped>\n",
       "    .dataframe tbody tr th:only-of-type {\n",
       "        vertical-align: middle;\n",
       "    }\n",
       "\n",
       "    .dataframe tbody tr th {\n",
       "        vertical-align: top;\n",
       "    }\n",
       "\n",
       "    .dataframe thead th {\n",
       "        text-align: right;\n",
       "    }\n",
       "</style>\n",
       "<table border=\"1\" class=\"dataframe\">\n",
       "  <thead>\n",
       "    <tr style=\"text-align: right;\">\n",
       "      <th></th>\n",
       "      <th>Date</th>\n",
       "      <th>Open</th>\n",
       "      <th>High</th>\n",
       "      <th>Low</th>\n",
       "      <th>Close</th>\n",
       "      <th>Adj Close</th>\n",
       "      <th>Volume</th>\n",
       "    </tr>\n",
       "  </thead>\n",
       "  <tbody>\n",
       "    <tr>\n",
       "      <th>0</th>\n",
       "      <td>2021-01-04</td>\n",
       "      <td>1760.000000</td>\n",
       "      <td>1762.489990</td>\n",
       "      <td>1707.140015</td>\n",
       "      <td>1726.130005</td>\n",
       "      <td>1726.130005</td>\n",
       "      <td>1866200</td>\n",
       "    </tr>\n",
       "    <tr>\n",
       "      <th>1</th>\n",
       "      <td>2021-01-05</td>\n",
       "      <td>1725.089966</td>\n",
       "      <td>1746.829956</td>\n",
       "      <td>1716.900024</td>\n",
       "      <td>1740.050049</td>\n",
       "      <td>1740.050049</td>\n",
       "      <td>1018000</td>\n",
       "    </tr>\n",
       "    <tr>\n",
       "      <th>2</th>\n",
       "      <td>2021-01-06</td>\n",
       "      <td>1700.260010</td>\n",
       "      <td>1743.969971</td>\n",
       "      <td>1696.099976</td>\n",
       "      <td>1722.880005</td>\n",
       "      <td>1722.880005</td>\n",
       "      <td>2329400</td>\n",
       "    </tr>\n",
       "    <tr>\n",
       "      <th>3</th>\n",
       "      <td>2021-01-07</td>\n",
       "      <td>1726.760010</td>\n",
       "      <td>1777.819946</td>\n",
       "      <td>1726.760010</td>\n",
       "      <td>1774.339966</td>\n",
       "      <td>1774.339966</td>\n",
       "      <td>2096800</td>\n",
       "    </tr>\n",
       "    <tr>\n",
       "      <th>4</th>\n",
       "      <td>2021-01-08</td>\n",
       "      <td>1777.160034</td>\n",
       "      <td>1799.359985</td>\n",
       "      <td>1761.219971</td>\n",
       "      <td>1797.829956</td>\n",
       "      <td>1797.829956</td>\n",
       "      <td>1774200</td>\n",
       "    </tr>\n",
       "  </tbody>\n",
       "</table>\n",
       "</div>"
      ],
      "text/plain": [
       "        Date         Open         High          Low        Close    Adj Close  \\\n",
       "0 2021-01-04  1760.000000  1762.489990  1707.140015  1726.130005  1726.130005   \n",
       "1 2021-01-05  1725.089966  1746.829956  1716.900024  1740.050049  1740.050049   \n",
       "2 2021-01-06  1700.260010  1743.969971  1696.099976  1722.880005  1722.880005   \n",
       "3 2021-01-07  1726.760010  1777.819946  1726.760010  1774.339966  1774.339966   \n",
       "4 2021-01-08  1777.160034  1799.359985  1761.219971  1797.829956  1797.829956   \n",
       "\n",
       "    Volume  \n",
       "0  1866200  \n",
       "1  1018000  \n",
       "2  2329400  \n",
       "3  2096800  \n",
       "4  1774200  "
      ]
     },
     "execution_count": 18,
     "metadata": {},
     "output_type": "execute_result"
    }
   ],
   "source": [
    "df = data.reset_index()\n",
    "df.head()"
   ]
  },
  {
   "cell_type": "code",
   "execution_count": 19,
   "id": "90867ada",
   "metadata": {},
   "outputs": [],
   "source": [
    "X = df.drop(['Date','Close'], axis=1, inplace=True)\n",
    "y = df[['Adj Close']]"
   ]
  },
  {
   "cell_type": "code",
   "execution_count": 20,
   "id": "4f24979a",
   "metadata": {},
   "outputs": [],
   "source": [
    "from sklearn.model_selection import train_test_split\n",
    "\n",
    "# Split X and y into X_\n",
    "X_train, X_test, y_train, y_test = train_test_split(df, y, test_size=0.25,  random_state=0)"
   ]
  },
  {
   "cell_type": "code",
   "execution_count": 21,
   "id": "fd9b25e2",
   "metadata": {},
   "outputs": [
    {
     "data": {
      "text/plain": [
       "LinearRegression()"
      ]
     },
     "execution_count": 21,
     "metadata": {},
     "output_type": "execute_result"
    }
   ],
   "source": [
    "from sklearn.linear_model import LinearRegression\n",
    "\n",
    "regression_model = LinearRegression()\n",
    "regression_model.fit(X_train, y_train)"
   ]
  },
  {
   "cell_type": "code",
   "execution_count": 22,
   "id": "6a1612fc",
   "metadata": {},
   "outputs": [
    {
     "name": "stdout",
     "output_type": "stream",
     "text": [
      "The intercept for our model is -4.014054866274819e-09\n"
     ]
    }
   ],
   "source": [
    "intercept = regression_model.intercept_[0]\n",
    "\n",
    "print(\"The intercept for our model is {}\".format(intercept))"
   ]
  },
  {
   "cell_type": "code",
   "execution_count": 23,
   "id": "fcb2a549",
   "metadata": {},
   "outputs": [
    {
     "data": {
      "text/plain": [
       "1.0"
      ]
     },
     "execution_count": 23,
     "metadata": {},
     "output_type": "execute_result"
    }
   ],
   "source": [
    "regression_model.score(X_test, y_test)\n"
   ]
  },
  {
   "cell_type": "code",
   "execution_count": 24,
   "id": "26b0ab53",
   "metadata": {},
   "outputs": [
    {
     "data": {
      "text/plain": [
       "1.6777421514598045e-18"
      ]
     },
     "execution_count": 24,
     "metadata": {},
     "output_type": "execute_result"
    }
   ],
   "source": [
    "from sklearn.metrics import mean_squared_error\n",
    "\n",
    "y_predict = regression_model.predict(X_test)\n",
    "\n",
    "regression_model_mse = mean_squared_error(y_predict, y_test)\n",
    "\n",
    "regression_model_mse"
   ]
  },
  {
   "cell_type": "code",
   "execution_count": 25,
   "id": "add31982",
   "metadata": {},
   "outputs": [
    {
     "data": {
      "text/plain": [
       "1.2952768628597534e-09"
      ]
     },
     "execution_count": 25,
     "metadata": {},
     "output_type": "execute_result"
    }
   ],
   "source": [
    "math.sqrt(regression_model_mse)\n"
   ]
  },
  {
   "cell_type": "code",
   "execution_count": 26,
   "id": "feb5eb92",
   "metadata": {},
   "outputs": [
    {
     "data": {
      "text/plain": [
       "array([[166.48000009]])"
      ]
     },
     "execution_count": 26,
     "metadata": {},
     "output_type": "execute_result"
    }
   ],
   "source": [
    "# input the latest Open, High, Low, Close, Volume\n",
    "# predicts the next day price\n",
    "regression_model.predict([[167.81, 171.75, 165.19, 166.48, 37232900]])"
   ]
  },
  {
   "cell_type": "code",
   "execution_count": null,
   "id": "38ee0810",
   "metadata": {},
   "outputs": [],
   "source": []
  },
  {
   "cell_type": "code",
   "execution_count": null,
   "id": "fc513cda",
   "metadata": {},
   "outputs": [],
   "source": []
  }
 ],
 "metadata": {
  "kernelspec": {
   "display_name": "Python 3",
   "language": "python",
   "name": "python3"
  },
  "language_info": {
   "codemirror_mode": {
    "name": "ipython",
    "version": 3
   },
   "file_extension": ".py",
   "mimetype": "text/x-python",
   "name": "python",
   "nbconvert_exporter": "python",
   "pygments_lexer": "ipython3",
   "version": "3.8.8"
  }
 },
 "nbformat": 4,
 "nbformat_minor": 5
}
