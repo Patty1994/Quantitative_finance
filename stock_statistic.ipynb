{
 "cells": [
  {
   "cell_type": "code",
   "execution_count": 1,
   "id": "c61c765b",
   "metadata": {},
   "outputs": [
    {
     "name": "stdout",
     "output_type": "stream",
     "text": [
      "Requirement already satisfied: yfinance in c:\\users\\prate\\anaconda3\\lib\\site-packages (0.1.68)\n",
      "Requirement already satisfied: multitasking>=0.0.7 in c:\\users\\prate\\anaconda3\\lib\\site-packages (from yfinance) (0.0.10)\n",
      "Requirement already satisfied: requests>=2.26 in c:\\users\\prate\\anaconda3\\lib\\site-packages (from yfinance) (2.27.1)\n",
      "Requirement already satisfied: lxml>=4.5.1 in c:\\users\\prate\\anaconda3\\lib\\site-packages (from yfinance) (4.6.3)\n",
      "Requirement already satisfied: pandas>=0.24 in c:\\users\\prate\\anaconda3\\lib\\site-packages (from yfinance) (1.2.4)\n",
      "Requirement already satisfied: numpy>=1.15 in c:\\users\\prate\\anaconda3\\lib\\site-packages (from yfinance) (1.20.1)\n",
      "Requirement already satisfied: python-dateutil>=2.7.3 in c:\\users\\prate\\anaconda3\\lib\\site-packages (from pandas>=0.24->yfinance) (2.8.1)\n",
      "Requirement already satisfied: pytz>=2017.3 in c:\\users\\prate\\anaconda3\\lib\\site-packages (from pandas>=0.24->yfinance) (2021.1)\n",
      "Note: you may need to restart the kernel to use updated packages.\n",
      "Requirement already satisfied: six>=1.5 in c:\\users\\prate\\anaconda3\\lib\\site-packages (from python-dateutil>=2.7.3->pandas>=0.24->yfinance) (1.15.0)\n",
      "Requirement already satisfied: idna<4,>=2.5 in c:\\users\\prate\\anaconda3\\lib\\site-packages (from requests>=2.26->yfinance) (2.10)\n",
      "Requirement already satisfied: certifi>=2017.4.17 in c:\\users\\prate\\anaconda3\\lib\\site-packages (from requests>=2.26->yfinance) (2020.12.5)\n",
      "Requirement already satisfied: charset-normalizer~=2.0.0 in c:\\users\\prate\\anaconda3\\lib\\site-packages (from requests>=2.26->yfinance) (2.0.10)\n",
      "Requirement already satisfied: urllib3<1.27,>=1.21.1 in c:\\users\\prate\\anaconda3\\lib\\site-packages (from requests>=2.26->yfinance) (1.26.4)\n"
     ]
    }
   ],
   "source": [
    "pip install yfinance"
   ]
  },
  {
   "cell_type": "code",
   "execution_count": 2,
   "id": "ba3b2391",
   "metadata": {},
   "outputs": [
    {
     "name": "stderr",
     "output_type": "stream",
     "text": [
      "C:\\Users\\prate\\anaconda3\\lib\\site-packages\\fix_yahoo_finance\\__init__.py:0: DeprecationWarning: \n",
      "\n",
      "*** `fix_yahoo_finance` was renamed to `yfinance`. ***\n",
      "Please install and use `yfinance` directly using `pip install yfinance -U`\n",
      "\n",
      "More information: https://github.com/ranaroussi/yfinance\n",
      "\n"
     ]
    },
    {
     "ename": "TypeError",
     "evalue": "download() missing 1 required positional argument: 'tickers'",
     "output_type": "error",
     "traceback": [
      "\u001b[1;31m---------------------------------------------------------------------------\u001b[0m",
      "\u001b[1;31mTypeError\u001b[0m                                 Traceback (most recent call last)",
      "\u001b[1;32m<ipython-input-2-62343f461012>\u001b[0m in \u001b[0;36m<module>\u001b[1;34m\u001b[0m\n\u001b[0;32m      9\u001b[0m \u001b[1;31m# fix_yahoo_finance is used to fetch data\u001b[0m\u001b[1;33m\u001b[0m\u001b[1;33m\u001b[0m\u001b[1;33m\u001b[0m\u001b[0m\n\u001b[0;32m     10\u001b[0m \u001b[1;32mimport\u001b[0m \u001b[0mfix_yahoo_finance\u001b[0m \u001b[1;32mas\u001b[0m \u001b[0myf\u001b[0m\u001b[1;33m\u001b[0m\u001b[1;33m\u001b[0m\u001b[0m\n\u001b[1;32m---> 11\u001b[1;33m \u001b[0myf\u001b[0m\u001b[1;33m.\u001b[0m\u001b[0mpdr_override\u001b[0m\u001b[1;33m(\u001b[0m\u001b[1;33m)\u001b[0m\u001b[1;33m\u001b[0m\u001b[1;33m\u001b[0m\u001b[0m\n\u001b[0m",
      "\u001b[1;31mTypeError\u001b[0m: download() missing 1 required positional argument: 'tickers'"
     ]
    }
   ],
   "source": [
    "import numpy as np\n",
    "import pandas as pd\n",
    "import scipy.stats as stats\n",
    "import matplotlib.pyplot as plt\n",
    "\n",
    "import warnings\n",
    "warnings.filterwarnings(\"ignore\")\n",
    "\n",
    "# fix_yahoo_finance is used to fetch data \n",
    "import fix_yahoo_finance as yf\n",
    "yf.pdr_override()"
   ]
  },
  {
   "cell_type": "code",
   "execution_count": 4,
   "id": "71392783",
   "metadata": {},
   "outputs": [
    {
     "name": "stdout",
     "output_type": "stream",
     "text": [
      "[*********************100%***********************]  1 of 1 completed\n"
     ]
    },
    {
     "data": {
      "text/html": [
       "<div>\n",
       "<style scoped>\n",
       "    .dataframe tbody tr th:only-of-type {\n",
       "        vertical-align: middle;\n",
       "    }\n",
       "\n",
       "    .dataframe tbody tr th {\n",
       "        vertical-align: top;\n",
       "    }\n",
       "\n",
       "    .dataframe thead th {\n",
       "        text-align: right;\n",
       "    }\n",
       "</style>\n",
       "<table border=\"1\" class=\"dataframe\">\n",
       "  <thead>\n",
       "    <tr style=\"text-align: right;\">\n",
       "      <th></th>\n",
       "      <th>Open</th>\n",
       "      <th>High</th>\n",
       "      <th>Low</th>\n",
       "      <th>Close</th>\n",
       "      <th>Adj Close</th>\n",
       "      <th>Volume</th>\n",
       "    </tr>\n",
       "    <tr>\n",
       "      <th>Date</th>\n",
       "      <th></th>\n",
       "      <th></th>\n",
       "      <th></th>\n",
       "      <th></th>\n",
       "      <th></th>\n",
       "      <th></th>\n",
       "    </tr>\n",
       "  </thead>\n",
       "  <tbody>\n",
       "    <tr>\n",
       "      <th>2021-01-04</th>\n",
       "      <td>1760.000000</td>\n",
       "      <td>1762.489990</td>\n",
       "      <td>1707.140015</td>\n",
       "      <td>1726.130005</td>\n",
       "      <td>1726.130005</td>\n",
       "      <td>1866200</td>\n",
       "    </tr>\n",
       "    <tr>\n",
       "      <th>2021-01-05</th>\n",
       "      <td>1725.089966</td>\n",
       "      <td>1746.829956</td>\n",
       "      <td>1716.900024</td>\n",
       "      <td>1740.050049</td>\n",
       "      <td>1740.050049</td>\n",
       "      <td>1018000</td>\n",
       "    </tr>\n",
       "    <tr>\n",
       "      <th>2021-01-06</th>\n",
       "      <td>1700.260010</td>\n",
       "      <td>1743.969971</td>\n",
       "      <td>1696.099976</td>\n",
       "      <td>1722.880005</td>\n",
       "      <td>1722.880005</td>\n",
       "      <td>2329400</td>\n",
       "    </tr>\n",
       "    <tr>\n",
       "      <th>2021-01-07</th>\n",
       "      <td>1726.760010</td>\n",
       "      <td>1777.819946</td>\n",
       "      <td>1726.760010</td>\n",
       "      <td>1774.339966</td>\n",
       "      <td>1774.339966</td>\n",
       "      <td>2096800</td>\n",
       "    </tr>\n",
       "    <tr>\n",
       "      <th>2021-01-08</th>\n",
       "      <td>1777.160034</td>\n",
       "      <td>1799.359985</td>\n",
       "      <td>1761.219971</td>\n",
       "      <td>1797.829956</td>\n",
       "      <td>1797.829956</td>\n",
       "      <td>1774200</td>\n",
       "    </tr>\n",
       "  </tbody>\n",
       "</table>\n",
       "</div>"
      ],
      "text/plain": [
       "                   Open         High          Low        Close    Adj Close  \\\n",
       "Date                                                                          \n",
       "2021-01-04  1760.000000  1762.489990  1707.140015  1726.130005  1726.130005   \n",
       "2021-01-05  1725.089966  1746.829956  1716.900024  1740.050049  1740.050049   \n",
       "2021-01-06  1700.260010  1743.969971  1696.099976  1722.880005  1722.880005   \n",
       "2021-01-07  1726.760010  1777.819946  1726.760010  1774.339966  1774.339966   \n",
       "2021-01-08  1777.160034  1799.359985  1761.219971  1797.829956  1797.829956   \n",
       "\n",
       "             Volume  \n",
       "Date                 \n",
       "2021-01-04  1866200  \n",
       "2021-01-05  1018000  \n",
       "2021-01-06  2329400  \n",
       "2021-01-07  2096800  \n",
       "2021-01-08  1774200  "
      ]
     },
     "execution_count": 4,
     "metadata": {},
     "output_type": "execute_result"
    }
   ],
   "source": [
    "symbol = 'GOOGL'\n",
    "start = '2021-01-01'\n",
    "end = '2021-01-31'\n",
    "\n",
    "# Read data \n",
    "df = yf.download(symbol,start,end)\n",
    "\n",
    "# View Columns\n",
    "df.head()"
   ]
  },
  {
   "cell_type": "code",
   "execution_count": 5,
   "id": "7a010728",
   "metadata": {},
   "outputs": [],
   "source": [
    "returns = df['Adj Close'].pct_change()[1:].dropna()\n"
   ]
  },
  {
   "cell_type": "code",
   "execution_count": 6,
   "id": "106a11fb",
   "metadata": {},
   "outputs": [
    {
     "name": "stdout",
     "output_type": "stream",
     "text": [
      "Mean of returns: 0.003407647528916344\n",
      "Median of returns: 0.003316871432868851\n",
      "Median Low of returns: 0.002170173579474133\n",
      "Median High of returns: 0.004463569286263569\n",
      "Median Grouped of returns: -0.49553643071373643\n",
      "Mode of returns: 0.008064307964021245\n"
     ]
    }
   ],
   "source": [
    "import statistics as st\n",
    "\n",
    "print('Mean of returns:', st.mean(returns))\n",
    "print('Median of returns:', st.median(returns))\n",
    "print('Median Low of returns:', st.median_low(returns))\n",
    "print('Median High of returns:', st.median_high(returns))\n",
    "print('Median Grouped of returns:', st.median_grouped(returns))\n",
    "print('Mode of returns:', st.mode(returns))"
   ]
  },
  {
   "cell_type": "code",
   "execution_count": 7,
   "id": "3b298860",
   "metadata": {},
   "outputs": [
    {
     "name": "stdout",
     "output_type": "stream",
     "text": [
      "Mode of returns: 0.008064307964021245\n",
      "Mode of bins: [(0.003460572422422925, 0.008471846889622006)]\n"
     ]
    }
   ],
   "source": [
    "from statistics import mode\n",
    "\n",
    "print('Mode of returns:', mode(returns))\n",
    "# Since all of the returns are distinct, we use a frequency distribution to get an alternative mode.\n",
    "# np.histogram returns the frequency distribution over the bins as well as the endpoints of the bins\n",
    "hist, bins = np.histogram(returns, 20) # Break data up into 20 bins\n",
    "maxfreq = max(hist)\n",
    "# Find all of the bins that are hit with frequency maxfreq, then print the intervals corresponding to them\n",
    "print('Mode of bins:', [(bins[i], bins[i+1]) for i, j in enumerate(hist) if j == maxfreq])\n"
   ]
  },
  {
   "cell_type": "code",
   "execution_count": 8,
   "id": "b0cd75fe",
   "metadata": {},
   "outputs": [
    {
     "name": "stdout",
     "output_type": "stream",
     "text": [
      "Arithmetic average of returns:\n",
      "\n",
      "0.003407647528916344\n"
     ]
    }
   ],
   "source": [
    "print('Arithmetic average of returns:\\n')\n",
    "print(returns.mean())"
   ]
  },
  {
   "cell_type": "code",
   "execution_count": 9,
   "id": "e237db83",
   "metadata": {},
   "outputs": [
    {
     "name": "stdout",
     "output_type": "stream",
     "text": [
      "Geometric mean of stock: nan\n"
     ]
    }
   ],
   "source": [
    "# Geometric mean\n",
    "from scipy.stats.mstats import gmean\n",
    "print('Geometric mean of stock:', gmean(returns))"
   ]
  },
  {
   "cell_type": "code",
   "execution_count": 10,
   "id": "4b682778",
   "metadata": {},
   "outputs": [
    {
     "name": "stdout",
     "output_type": "stream",
     "text": [
      "Geometric mean of returns: 0.0031711498796807014\n"
     ]
    }
   ],
   "source": [
    "ratios = returns + np.ones(len(returns))\n",
    "R_G = gmean(ratios) - 1\n",
    "print('Geometric mean of returns:', R_G)"
   ]
  },
  {
   "cell_type": "code",
   "execution_count": 11,
   "id": "a1f0eec2",
   "metadata": {},
   "outputs": [
    {
     "name": "stdout",
     "output_type": "stream",
     "text": [
      "Standard deviation of returns\n",
      "0.022425007660118984\n"
     ]
    }
   ],
   "source": [
    "print('Standard deviation of returns')\n",
    "print(returns.std())"
   ]
  },
  {
   "cell_type": "code",
   "execution_count": 12,
   "id": "644833d3",
   "metadata": {},
   "outputs": [
    {
     "name": "stdout",
     "output_type": "stream",
     "text": [
      "Initial price: 1726.1300048828125\n",
      "Final price: 1827.3599853515625\n",
      "Final price as computed with R_G: 1827.3599853515632\n"
     ]
    }
   ],
   "source": [
    "T = len(returns)\n",
    "init_price = df['Adj Close'][0]\n",
    "final_price = df['Adj Close'][T]\n",
    "print('Initial price:', init_price)\n",
    "print('Final price:', final_price)\n",
    "print('Final price as computed with R_G:', init_price*(1 + R_G)**T)"
   ]
  },
  {
   "cell_type": "code",
   "execution_count": 13,
   "id": "5a8605a0",
   "metadata": {},
   "outputs": [
    {
     "name": "stdout",
     "output_type": "stream",
     "text": [
      "Harmonic mean of returns: 0.01221636803661604\n"
     ]
    }
   ],
   "source": [
    "# Harmonic mean\n",
    "\n",
    "print('Harmonic mean of returns:', len(returns)/np.sum(1.0/returns))\n"
   ]
  },
  {
   "cell_type": "code",
   "execution_count": 14,
   "id": "3024811c",
   "metadata": {},
   "outputs": [
    {
     "name": "stdout",
     "output_type": "stream",
     "text": [
      "Skew: 0.09935843193090399\n",
      "Mean: 0.003407647528916344\n",
      "Median: 0.003316871432868851\n"
     ]
    },
    {
     "data": {
      "image/png": "[encoded data removed]",
      "text/plain": [
       "<Figure size 432x288 with 1 Axes>"
      ]
     },
     "metadata": {
      "needs_background": "light"
     },
     "output_type": "display_data"
    }
   ],
   "source": [
    "print('Skew:', stats.skew(returns))\n",
    "print('Mean:', np.mean(returns))\n",
    "print('Median:', np.median(returns))\n",
    "\n",
    "plt.hist(returns, 30); "
   ]
  },
  {
   "cell_type": "code",
   "execution_count": 18,
   "id": "b1e7beeb",
   "metadata": {},
   "outputs": [
    {
     "name": "stdout",
     "output_type": "stream",
     "text": [
      "Excess kurtosis of leptokurtic distribution: (array([ 0.00806431, -0.00986756,  0.02986857,  0.01323872, -0.02310559,\n",
      "       -0.01073854,  0.005652  , -0.00934609, -0.00190653,  0.03290653,\n",
      "        0.05357332,  0.00217017,  0.00446357,  0.00090881,  0.00721642,\n",
      "       -0.04665217,  0.01883515, -0.01394343]), array([2., 2., 2., 2., 2., 2., 2., 2., 2., 2., 2., 2., 2., 2., 2., 2., 2.,\n",
      "       2.]))\n",
      "Excess kurtosis of platykurtic distribution: (array([ 0.00806431, -0.00986756,  0.02986857,  0.01323872, -0.02310559,\n",
      "       -0.01073854,  0.005652  , -0.00934609, -0.00190653,  0.03290653,\n",
      "        0.05357332,  0.00217017,  0.00446357,  0.00090881,  0.00721642,\n",
      "       -0.04665217,  0.01883515, -0.01394343]), array([1.28986813, 1.28986813, 1.28986813, 1.28986813, 1.28986813,\n",
      "       1.28986813, 1.28986813, 1.28986813, 1.28986813, 1.28986813,\n",
      "       1.28986813, 1.28986813, 1.28986813, 1.28986813, 1.28986813,\n",
      "       1.28986813, 1.28986813, 1.28986813]))\n"
     ]
    },
    {
     "data": {
      "text/plain": [
       "<matplotlib.legend.Legend at 0x1ecd7e50e50>"
      ]
     },
     "execution_count": 18,
     "metadata": {},
     "output_type": "execute_result"
    },
    {
     "data": {
      "image/png": "[encoded data removed]",
      "text/plain": [
       "<Figure size 432x288 with 1 Axes>"
      ]
     },
     "metadata": {
      "needs_background": "light"
     },
     "output_type": "display_data"
    }
   ],
   "source": [
    "# Plot some example distributions stock's returns\n",
    "xs = np.linspace(-6,6, 1257)\n",
    "normal = stats.norm.pdf(xs)\n",
    "plt.plot(returns,stats.laplace.pdf(returns), label='Leptokurtic')\n",
    "print('Excess kurtosis of leptokurtic distribution:', (stats.laplace.stats(returns)))\n",
    "plt.plot(returns,stats.cosine.pdf(returns), label='Platykurtic')\n",
    "print('Excess kurtosis of platykurtic distribution:', (stats.cosine.stats(returns)))\n",
    "plt.legend()"
   ]
  },
  {
   "cell_type": "code",
   "execution_count": 19,
   "id": "d2505f78",
   "metadata": {},
   "outputs": [
    {
     "name": "stdout",
     "output_type": "stream",
     "text": [
      "Excess kurtosis of returns:  0.5984133845360464\n"
     ]
    }
   ],
   "source": [
    "print(\"Excess kurtosis of returns: \", stats.kurtosis(returns))\n"
   ]
  },
  {
   "cell_type": "code",
   "execution_count": 20,
   "id": "ba25a343",
   "metadata": {},
   "outputs": [
    {
     "name": "stdout",
     "output_type": "stream",
     "text": [
      "The returns are likely normal.\n"
     ]
    }
   ],
   "source": [
    "from statsmodels.stats.stattools import jarque_bera\n",
    "\n",
    "_, pvalue, _, _ = jarque_bera(returns)\n",
    "\n",
    "if pvalue > 0.05:\n",
    "    print('The returns are likely normal.')\n",
    "else:\n",
    "    print('The returns are likely not normal.')"
   ]
  },
  {
   "cell_type": "code",
   "execution_count": null,
   "id": "e8131bdd",
   "metadata": {},
   "outputs": [],
   "source": []
  }
 ],
 "metadata": {
  "kernelspec": {
   "display_name": "Python 3",
   "language": "python",
   "name": "python3"
  },
  "language_info": {
   "codemirror_mode": {
    "name": "ipython",
    "version": 3
   },
   "file_extension": ".py",
   "mimetype": "text/x-python",
   "name": "python",
   "nbconvert_exporter": "python",
   "pygments_lexer": "ipython3",
   "version": "3.8.8"
  }
 },
 "nbformat": 4,
 "nbformat_minor": 5
}
