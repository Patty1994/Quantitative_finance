{
 "cells": [
  {
   "cell_type": "code",
   "execution_count": null,
   "id": "e67bb3f4",
   "metadata": {},
   "outputs": [],
   "source": [
    "pip install fix-yahoo-finance"
   ]
  },
  {
   "cell_type": "code",
   "execution_count": null,
   "id": "c4f93fbc",
   "metadata": {},
   "outputs": [],
   "source": [
    "import numpy as np\n",
    "import pandas as pd\n",
    "import matplotlib.pyplot as plt\n",
    "import math\n",
    "\n",
    "import warnings\n",
    "warnings.filterwarnings(\"ignore\")\n",
    "\n",
    "# fix_yahoo_finance is used to fetch data \n",
    "import fix_yahoo_finance as yf\n",
    "yf.pdr_override()"
   ]
  },
  {
   "cell_type": "code",
   "execution_count": 3,
   "id": "bdce985b",
   "metadata": {},
   "outputs": [
    {
     "name": "stdout",
     "output_type": "stream",
     "text": [
      "[*********************100%***********************]  4 of 4 completed\n"
     ]
    },
    {
     "data": {
      "text/html": [
       "<div>\n",
       "<style scoped>\n",
       "    .dataframe tbody tr th:only-of-type {\n",
       "        vertical-align: middle;\n",
       "    }\n",
       "\n",
       "    .dataframe tbody tr th {\n",
       "        vertical-align: top;\n",
       "    }\n",
       "\n",
       "    .dataframe thead th {\n",
       "        text-align: right;\n",
       "    }\n",
       "</style>\n",
       "<table border=\"1\" class=\"dataframe\">\n",
       "  <thead>\n",
       "    <tr style=\"text-align: right;\">\n",
       "      <th></th>\n",
       "      <th>AAPL</th>\n",
       "      <th>AMD</th>\n",
       "      <th>MSFT</th>\n",
       "      <th>NVDA</th>\n",
       "    </tr>\n",
       "    <tr>\n",
       "      <th>Date</th>\n",
       "      <th></th>\n",
       "      <th></th>\n",
       "      <th></th>\n",
       "      <th></th>\n",
       "    </tr>\n",
       "  </thead>\n",
       "  <tbody>\n",
       "    <tr>\n",
       "      <th>2021-01-04</th>\n",
       "      <td>128.617096</td>\n",
       "      <td>92.300003</td>\n",
       "      <td>215.880432</td>\n",
       "      <td>131.020554</td>\n",
       "    </tr>\n",
       "    <tr>\n",
       "      <th>2021-01-05</th>\n",
       "      <td>130.207291</td>\n",
       "      <td>92.769997</td>\n",
       "      <td>216.088669</td>\n",
       "      <td>133.930511</td>\n",
       "    </tr>\n",
       "    <tr>\n",
       "      <th>2021-01-06</th>\n",
       "      <td>125.824326</td>\n",
       "      <td>90.330002</td>\n",
       "      <td>210.485641</td>\n",
       "      <td>126.034920</td>\n",
       "    </tr>\n",
       "    <tr>\n",
       "      <th>2021-01-07</th>\n",
       "      <td>130.117859</td>\n",
       "      <td>95.160004</td>\n",
       "      <td>216.475433</td>\n",
       "      <td>133.323547</td>\n",
       "    </tr>\n",
       "    <tr>\n",
       "      <th>2021-01-08</th>\n",
       "      <td>131.240921</td>\n",
       "      <td>94.580002</td>\n",
       "      <td>217.794373</td>\n",
       "      <td>132.651627</td>\n",
       "    </tr>\n",
       "  </tbody>\n",
       "</table>\n",
       "</div>"
      ],
      "text/plain": [
       "                  AAPL        AMD        MSFT        NVDA\n",
       "Date                                                     \n",
       "2021-01-04  128.617096  92.300003  215.880432  131.020554\n",
       "2021-01-05  130.207291  92.769997  216.088669  133.930511\n",
       "2021-01-06  125.824326  90.330002  210.485641  126.034920\n",
       "2021-01-07  130.117859  95.160004  216.475433  133.323547\n",
       "2021-01-08  131.240921  94.580002  217.794373  132.651627"
      ]
     },
     "execution_count": 3,
     "metadata": {},
     "output_type": "execute_result"
    }
   ],
   "source": [
    "symbols = ['AAPL','MSFT','AMD','NVDA']\n",
    "start = '2021-01-01'\n",
    "end = '2021-09-11'\n",
    "\n",
    "# Read data \n",
    "dataset = yf.download(symbols,start,end)['Adj Close']\n",
    "\n",
    "# View Columns\n",
    "dataset.head()"
   ]
  },
  {
   "cell_type": "code",
   "execution_count": 4,
   "id": "4b23ca90",
   "metadata": {},
   "outputs": [],
   "source": [
    "# Calculate Daily Returns\n",
    "returns = dataset.pct_change()\n"
   ]
  },
  {
   "cell_type": "code",
   "execution_count": 5,
   "id": "49282a4f",
   "metadata": {},
   "outputs": [],
   "source": [
    "returns = returns.dropna()\n"
   ]
  },
  {
   "cell_type": "code",
   "execution_count": 6,
   "id": "4c2243c7",
   "metadata": {},
   "outputs": [
    {
     "data": {
      "text/html": [
       "<div>\n",
       "<style scoped>\n",
       "    .dataframe tbody tr th:only-of-type {\n",
       "        vertical-align: middle;\n",
       "    }\n",
       "\n",
       "    .dataframe tbody tr th {\n",
       "        vertical-align: top;\n",
       "    }\n",
       "\n",
       "    .dataframe thead th {\n",
       "        text-align: right;\n",
       "    }\n",
       "</style>\n",
       "<table border=\"1\" class=\"dataframe\">\n",
       "  <thead>\n",
       "    <tr style=\"text-align: right;\">\n",
       "      <th></th>\n",
       "      <th>AAPL</th>\n",
       "      <th>AMD</th>\n",
       "      <th>MSFT</th>\n",
       "      <th>NVDA</th>\n",
       "    </tr>\n",
       "    <tr>\n",
       "      <th>Date</th>\n",
       "      <th></th>\n",
       "      <th></th>\n",
       "      <th></th>\n",
       "      <th></th>\n",
       "    </tr>\n",
       "  </thead>\n",
       "  <tbody>\n",
       "    <tr>\n",
       "      <th>2021-01-05</th>\n",
       "      <td>0.012364</td>\n",
       "      <td>0.005092</td>\n",
       "      <td>0.000965</td>\n",
       "      <td>0.022210</td>\n",
       "    </tr>\n",
       "    <tr>\n",
       "      <th>2021-01-06</th>\n",
       "      <td>-0.033661</td>\n",
       "      <td>-0.026302</td>\n",
       "      <td>-0.025929</td>\n",
       "      <td>-0.058953</td>\n",
       "    </tr>\n",
       "    <tr>\n",
       "      <th>2021-01-07</th>\n",
       "      <td>0.034123</td>\n",
       "      <td>0.053471</td>\n",
       "      <td>0.028457</td>\n",
       "      <td>0.057830</td>\n",
       "    </tr>\n",
       "    <tr>\n",
       "      <th>2021-01-08</th>\n",
       "      <td>0.008631</td>\n",
       "      <td>-0.006095</td>\n",
       "      <td>0.006093</td>\n",
       "      <td>-0.005040</td>\n",
       "    </tr>\n",
       "    <tr>\n",
       "      <th>2021-01-11</th>\n",
       "      <td>-0.023249</td>\n",
       "      <td>0.028230</td>\n",
       "      <td>-0.009698</td>\n",
       "      <td>0.025967</td>\n",
       "    </tr>\n",
       "  </tbody>\n",
       "</table>\n",
       "</div>"
      ],
      "text/plain": [
       "                AAPL       AMD      MSFT      NVDA\n",
       "Date                                              \n",
       "2021-01-05  0.012364  0.005092  0.000965  0.022210\n",
       "2021-01-06 -0.033661 -0.026302 -0.025929 -0.058953\n",
       "2021-01-07  0.034123  0.053471  0.028457  0.057830\n",
       "2021-01-08  0.008631 -0.006095  0.006093 -0.005040\n",
       "2021-01-11 -0.023249  0.028230 -0.009698  0.025967"
      ]
     },
     "execution_count": 6,
     "metadata": {},
     "output_type": "execute_result"
    }
   ],
   "source": [
    "returns.head()\n"
   ]
  },
  {
   "cell_type": "code",
   "execution_count": 7,
   "id": "68cd2cd5",
   "metadata": {},
   "outputs": [
    {
     "name": "stdout",
     "output_type": "stream",
     "text": [
      "AAPL    0.000972\n",
      "AMD     0.001063\n",
      "MSFT    0.001889\n",
      "NVDA    0.003454\n",
      "dtype: float64\n"
     ]
    }
   ],
   "source": [
    "# Calculate mean returns\n",
    "meanDailyReturns = returns.mean()\n",
    "print(meanDailyReturns)"
   ]
  },
  {
   "cell_type": "code",
   "execution_count": 8,
   "id": "0446ad49",
   "metadata": {},
   "outputs": [
    {
     "name": "stdout",
     "output_type": "stream",
     "text": [
      "AAPL    0.016216\n",
      "AMD     0.024857\n",
      "MSFT    0.012638\n",
      "NVDA    0.025768\n",
      "dtype: float64\n"
     ]
    }
   ],
   "source": [
    "# Calculate std returns\n",
    "stdDailyReturns = returns.std()\n",
    "print(stdDailyReturns)"
   ]
  },
  {
   "cell_type": "code",
   "execution_count": 9,
   "id": "d5a331ae",
   "metadata": {},
   "outputs": [],
   "source": [
    "# Define weights for the portfolio\n",
    "weights = np.array([0.5, 0.2, 0.2, 0.1])"
   ]
  },
  {
   "cell_type": "code",
   "execution_count": 10,
   "id": "2323f5d3",
   "metadata": {},
   "outputs": [
    {
     "name": "stdout",
     "output_type": "stream",
     "text": [
      "          AAPL       AMD      MSFT      NVDA\n",
      "AAPL  0.065740  0.048690  0.035982  0.054817\n",
      "AMD   0.048690  0.154463  0.036402  0.107966\n",
      "MSFT  0.035982  0.036402  0.039930  0.048425\n",
      "NVDA  0.054817  0.107966  0.048425  0.165999\n"
     ]
    }
   ],
   "source": [
    "# Calculate the covariance matrix on daily returns\n",
    "cov_matrix = (returns.cov())*250\n",
    "print (cov_matrix)"
   ]
  },
  {
   "cell_type": "code",
   "execution_count": 11,
   "id": "77da807a",
   "metadata": {},
   "outputs": [],
   "source": [
    "# Calculate expected portfolio performance\n",
    "portReturn = np.sum(meanDailyReturns*weights)"
   ]
  },
  {
   "cell_type": "code",
   "execution_count": 12,
   "id": "a096ca20",
   "metadata": {},
   "outputs": [
    {
     "name": "stdout",
     "output_type": "stream",
     "text": [
      "0.0014216652374119511\n"
     ]
    }
   ],
   "source": [
    "# Print the portfolio return\n",
    "print(portReturn)"
   ]
  },
  {
   "cell_type": "code",
   "execution_count": 13,
   "id": "b5c829e9",
   "metadata": {},
   "outputs": [],
   "source": [
    "# Create portfolio returns column\n",
    "returns['Portfolio'] = returns.dot(weights)\n"
   ]
  },
  {
   "cell_type": "code",
   "execution_count": 14,
   "id": "3f7f402b",
   "metadata": {},
   "outputs": [
    {
     "data": {
      "text/html": [
       "<div>\n",
       "<style scoped>\n",
       "    .dataframe tbody tr th:only-of-type {\n",
       "        vertical-align: middle;\n",
       "    }\n",
       "\n",
       "    .dataframe tbody tr th {\n",
       "        vertical-align: top;\n",
       "    }\n",
       "\n",
       "    .dataframe thead th {\n",
       "        text-align: right;\n",
       "    }\n",
       "</style>\n",
       "<table border=\"1\" class=\"dataframe\">\n",
       "  <thead>\n",
       "    <tr style=\"text-align: right;\">\n",
       "      <th></th>\n",
       "      <th>AAPL</th>\n",
       "      <th>AMD</th>\n",
       "      <th>MSFT</th>\n",
       "      <th>NVDA</th>\n",
       "      <th>Portfolio</th>\n",
       "    </tr>\n",
       "    <tr>\n",
       "      <th>Date</th>\n",
       "      <th></th>\n",
       "      <th></th>\n",
       "      <th></th>\n",
       "      <th></th>\n",
       "      <th></th>\n",
       "    </tr>\n",
       "  </thead>\n",
       "  <tbody>\n",
       "    <tr>\n",
       "      <th>2021-01-05</th>\n",
       "      <td>0.012364</td>\n",
       "      <td>0.005092</td>\n",
       "      <td>0.000965</td>\n",
       "      <td>0.022210</td>\n",
       "      <td>0.009614</td>\n",
       "    </tr>\n",
       "    <tr>\n",
       "      <th>2021-01-06</th>\n",
       "      <td>-0.033661</td>\n",
       "      <td>-0.026302</td>\n",
       "      <td>-0.025929</td>\n",
       "      <td>-0.058953</td>\n",
       "      <td>-0.033172</td>\n",
       "    </tr>\n",
       "    <tr>\n",
       "      <th>2021-01-07</th>\n",
       "      <td>0.034123</td>\n",
       "      <td>0.053471</td>\n",
       "      <td>0.028457</td>\n",
       "      <td>0.057830</td>\n",
       "      <td>0.039230</td>\n",
       "    </tr>\n",
       "    <tr>\n",
       "      <th>2021-01-08</th>\n",
       "      <td>0.008631</td>\n",
       "      <td>-0.006095</td>\n",
       "      <td>0.006093</td>\n",
       "      <td>-0.005040</td>\n",
       "      <td>0.003811</td>\n",
       "    </tr>\n",
       "    <tr>\n",
       "      <th>2021-01-11</th>\n",
       "      <td>-0.023249</td>\n",
       "      <td>0.028230</td>\n",
       "      <td>-0.009698</td>\n",
       "      <td>0.025967</td>\n",
       "      <td>-0.005321</td>\n",
       "    </tr>\n",
       "  </tbody>\n",
       "</table>\n",
       "</div>"
      ],
      "text/plain": [
       "                AAPL       AMD      MSFT      NVDA  Portfolio\n",
       "Date                                                         \n",
       "2021-01-05  0.012364  0.005092  0.000965  0.022210   0.009614\n",
       "2021-01-06 -0.033661 -0.026302 -0.025929 -0.058953  -0.033172\n",
       "2021-01-07  0.034123  0.053471  0.028457  0.057830   0.039230\n",
       "2021-01-08  0.008631 -0.006095  0.006093 -0.005040   0.003811\n",
       "2021-01-11 -0.023249  0.028230 -0.009698  0.025967  -0.005321"
      ]
     },
     "execution_count": 14,
     "metadata": {},
     "output_type": "execute_result"
    }
   ],
   "source": [
    "returns.head()"
   ]
  },
  {
   "cell_type": "code",
   "execution_count": 15,
   "id": "482805ce",
   "metadata": {},
   "outputs": [
    {
     "name": "stdout",
     "output_type": "stream",
     "text": [
      "                AAPL       AMD      MSFT      NVDA  Portfolio\n",
      "Date                                                         \n",
      "2021-09-03  1.197937  1.190899  1.392392  1.743253   1.293534\n",
      "2021-09-07  1.216492  1.182557  1.387953  1.729441   1.299890\n",
      "2021-09-08  1.204225  1.150271  1.388091  1.704791   1.284412\n",
      "2021-09-09  1.196151  1.150054  1.374405  1.692428   1.276593\n",
      "2021-09-10  1.156556  1.139762  1.367285  1.715399   1.253589\n"
     ]
    }
   ],
   "source": [
    "# Calculate cumulative returns\n",
    "daily_cum_ret=(1+returns).cumprod()\n",
    "print(daily_cum_ret.tail())\n",
    " "
   ]
  },
  {
   "cell_type": "code",
   "execution_count": 16,
   "id": "d6221d94",
   "metadata": {},
   "outputs": [
    {
     "data": {
      "image/png": "[encoded data removed]",
      "text/plain": [
       "<Figure size 432x288 with 1 Axes>"
      ]
     },
     "metadata": {
      "needs_background": "light"
     },
     "output_type": "display_data"
    }
   ],
   "source": [
    "returns['Portfolio'].hist()\n",
    "plt.show()"
   ]
  },
  {
   "cell_type": "code",
   "execution_count": 17,
   "id": "f22eb21f",
   "metadata": {},
   "outputs": [
    {
     "data": {
      "image/png": "[encoded data removed]",
      "text/plain": [
       "<Figure size 432x288 with 1 Axes>"
      ]
     },
     "metadata": {
      "needs_background": "light"
     },
     "output_type": "display_data"
    }
   ],
   "source": [
    "import matplotlib.dates\n",
    "\n",
    "# Plot the portfolio cumulative returns only\n",
    "fig, ax = plt.subplots()\n",
    "ax.plot(daily_cum_ret.index, daily_cum_ret.Portfolio, color='purple', label=\"portfolio\")\n",
    "ax.xaxis.set_major_locator(matplotlib.dates.YearLocator())\n",
    "plt.legend()\n",
    "plt.show()"
   ]
  },
  {
   "cell_type": "code",
   "execution_count": 18,
   "id": "c417aad6",
   "metadata": {},
   "outputs": [
    {
     "name": "stdout",
     "output_type": "stream",
     "text": [
      "mean :  0.14216652374119507\n",
      "Std. dev:  1.5159762783780348\n",
      "skew:  -0.23551209854028696\n",
      "kurt:  0.5219910732781625\n"
     ]
    }
   ],
   "source": [
    "# Print the mean\n",
    "print(\"mean : \", returns['Portfolio'].mean()*100)\n",
    "\n",
    "# Print the standard deviation\n",
    "print(\"Std. dev: \", returns['Portfolio'].std()*100)\n",
    "\n",
    "# Print the skewness\n",
    "print(\"skew: \", returns['Portfolio'].skew())\n",
    "\n",
    "# Print the kurtosis\n",
    "print(\"kurt: \", returns['Portfolio'].kurtosis())\n"
   ]
  },
  {
   "cell_type": "code",
   "execution_count": 19,
   "id": "7e0a3641",
   "metadata": {},
   "outputs": [
    {
     "name": "stdout",
     "output_type": "stream",
     "text": [
      "23.97%\n"
     ]
    }
   ],
   "source": [
    "# Calculate the standard deviation by taking the square root\n",
    "port_standard_dev = np.sqrt(np.dot(weights.T, np.dot(weights, cov_matrix)))\n",
    "\n",
    "# Print the results \n",
    "print(str(np.round(port_standard_dev, 4) * 100) + '%')\n"
   ]
  },
  {
   "cell_type": "code",
   "execution_count": 20,
   "id": "fe511721",
   "metadata": {},
   "outputs": [
    {
     "name": "stdout",
     "output_type": "stream",
     "text": [
      "5.75%\n"
     ]
    }
   ],
   "source": [
    "# Calculate the portfolio variance\n",
    "port_variance = np.dot(weights.T, np.dot(cov_matrix, weights))\n",
    "\n",
    "# Print the result\n",
    "print(str(np.round(port_variance, 4) * 100) + '%')"
   ]
  },
  {
   "cell_type": "code",
   "execution_count": 21,
   "id": "d4ab7762",
   "metadata": {},
   "outputs": [],
   "source": [
    "# Calculate total return and annualized return from price data \n",
    "total_return = (returns['Portfolio'][-1] - returns['Portfolio'][0]) / returns['Portfolio'][0]\n",
    "\n",
    "# Annualize the total return over 6 year \n",
    "annualized_return = ((total_return + 1)**(1/6))-1"
   ]
  },
  {
   "cell_type": "code",
   "execution_count": 22,
   "id": "2288cb89",
   "metadata": {},
   "outputs": [],
   "source": [
    "# Calculate annualized volatility from the standard deviation\n",
    "vol_port = returns['Portfolio'].std() * np.sqrt(250)"
   ]
  },
  {
   "cell_type": "code",
   "execution_count": 24,
   "id": "5773a47c",
   "metadata": {},
   "outputs": [
    {
     "name": "stdout",
     "output_type": "stream",
     "text": [
      "Expected return:  0.14216652374119507\n",
      "--------------------------------------------------\n",
      "Downside risk:\n",
      "AAPL         1.148756\n",
      "AMD          1.749411\n",
      "MSFT         0.983277\n",
      "NVDA         2.284453\n",
      "Portfolio    1.006321\n",
      "dtype: float64\n",
      "--------------------------------------------------\n",
      "Sortino ratio:\n",
      "AAPL        -0.746750\n",
      "AMD         -0.490356\n",
      "MSFT        -0.872423\n",
      "NVDA        -0.375509\n",
      "Portfolio   -0.852446\n",
      "dtype: float64\n"
     ]
    }
   ],
   "source": [
    "# Create a downside return column with the negative returns only\n",
    "target = 0\n",
    "downside_returns = returns.loc[returns['Portfolio'] < target]\n",
    "\n",
    "# Calculate expected return and std dev of downside\n",
    "expected_return = returns['Portfolio'].mean()\n",
    "down_stdev = downside_returns.std()\n",
    "\n",
    "# Calculate the sortino ratio\n",
    "rf = 0.01\n",
    "sortino_ratio = (expected_return - rf)/down_stdev\n",
    "\n",
    "# Print the results\n",
    "print(\"Expected return: \", expected_return*100)\n",
    "print('-' * 50)\n",
    "print(\"Downside risk:\")\n",
    "print(down_stdev*100)\n",
    "print('-' * 50)\n",
    "print(\"Sortino ratio:\")\n",
    "print(sortino_ratio)"
   ]
  },
  {
   "cell_type": "code",
   "execution_count": 25,
   "id": "4fcefc49",
   "metadata": {},
   "outputs": [
    {
     "data": {
      "image/png": "[encoded data removed]",
      "text/plain": [
       "<Figure size 1080x1080 with 1 Axes>"
      ]
     },
     "metadata": {
      "needs_background": "light"
     },
     "output_type": "display_data"
    }
   ],
   "source": [
    "# Calculate the max value \n",
    "roll_max = returns['Portfolio'].rolling(center=False,min_periods=1,window=252).max()\n",
    "\n",
    "# Calculate the daily draw-down relative to the max\n",
    "daily_draw_down = returns['Portfolio']/roll_max - 1.0\n",
    "\n",
    "# Calculate the minimum (negative) daily draw-down\n",
    "max_daily_draw_down = daily_draw_down.rolling(center=False,min_periods=1,window=252).min()\n",
    "\n",
    "# Plot the results\n",
    "plt.figure(figsize=(15,15))\n",
    "plt.plot(returns.index, daily_draw_down, label='Daily drawdown')\n",
    "plt.plot(returns.index, max_daily_draw_down, label='Maximum daily drawdown in time-window')\n",
    "plt.legend()\n",
    "plt.show()\n"
   ]
  },
  {
   "cell_type": "code",
   "execution_count": null,
   "id": "105b9695",
   "metadata": {},
   "outputs": [],
   "source": []
  }
 ],
 "metadata": {
  "kernelspec": {
   "display_name": "Python 3",
   "language": "python",
   "name": "python3"
  },
  "language_info": {
   "codemirror_mode": {
    "name": "ipython",
    "version": 3
   },
   "file_extension": ".py",
   "mimetype": "text/x-python",
   "name": "python",
   "nbconvert_exporter": "python",
   "pygments_lexer": "ipython3",
   "version": "3.8.8"
  }
 },
 "nbformat": 4,
 "nbformat_minor": 5
}
