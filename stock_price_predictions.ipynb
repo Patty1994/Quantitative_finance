{
 "cells": [
  {
   "cell_type": "code",
   "execution_count": null,
   "id": "98416fd0",
   "metadata": {},
   "outputs": [],
   "source": [
    "import numpy as np\n",
    "import pandas as pd\n",
    "from sklearn.linear_model import LinearRegression\n",
    "\n",
    "import warnings\n",
    "warnings.filterwarnings(\"ignore\")\n",
    "\n",
    "import yfinance as yf\n",
    "yf.pdr_override()"
   ]
  },
  {
   "cell_type": "code",
   "execution_count": null,
   "id": "7ad6e3e4",
   "metadata": {},
   "outputs": [],
   "source": [
    "symbol = 'GOOGL'\n",
    "start = '2021-01-01' \n",
    "end = '2021-12-31'\n",
    "df = yf.download(symbol, start, end)\n",
    "df = df.reset_index()"
   ]
  },
  {
   "cell_type": "code",
   "execution_count": null,
   "id": "be7418e3",
   "metadata": {},
   "outputs": [],
   "source": [
    "df.head()\n"
   ]
  },
  {
   "cell_type": "code",
   "execution_count": null,
   "id": "a05ca202",
   "metadata": {},
   "outputs": [],
   "source": [
    "df.tail()\n"
   ]
  },
  {
   "cell_type": "code",
   "execution_count": null,
   "id": "a48639d4",
   "metadata": {},
   "outputs": [],
   "source": [
    "X_train = df[df.columns[1:5]] # data_aal[['open', 'high', 'low', 'close']]\n",
    "Y_train = df['Adj Close']"
   ]
  },
  {
   "cell_type": "code",
   "execution_count": null,
   "id": "e4958e7b",
   "metadata": {},
   "outputs": [],
   "source": [
    "X_train = X_train.values[:-1]\n",
    "Y_train = Y_train.values[1:]"
   ]
  },
  {
   "cell_type": "code",
   "execution_count": null,
   "id": "d044762f",
   "metadata": {},
   "outputs": [],
   "source": [
    "lr = LinearRegression()\n"
   ]
  },
  {
   "cell_type": "code",
   "execution_count": null,
   "id": "1a096d8d",
   "metadata": {},
   "outputs": [],
   "source": [
    "lr.fit(X_train, Y_train)\n"
   ]
  },
  {
   "cell_type": "code",
   "execution_count": null,
   "id": "b488f799",
   "metadata": {},
   "outputs": [],
   "source": [
    "X_test = df[df.columns[1:5]].values[:-1]\n",
    "Y_test = df['Adj Close'].values[1:]"
   ]
  },
  {
   "cell_type": "code",
   "execution_count": null,
   "id": "09150b7c",
   "metadata": {},
   "outputs": [],
   "source": [
    "lr.score(X_test, Y_test)\n"
   ]
  },
  {
   "cell_type": "code",
   "execution_count": null,
   "id": "cf6db99c",
   "metadata": {},
   "outputs": [],
   "source": [
    "opening_price = float(input('Open: '))\n",
    "high = float(input('High: '))\n",
    "low = float(input('Low: '))\n",
    "close = float(input('Close: '))\n",
    "print('My Prediction the opening price will be:', lr.predict([[opening_price, high, low, close]])[0])"
   ]
  },
  {
   "cell_type": "code",
   "execution_count": null,
   "id": "eef567d9",
   "metadata": {},
   "outputs": [],
   "source": []
  }
 ],
 "metadata": {
  "kernelspec": {
   "display_name": "Python 3",
   "language": "python",
   "name": "python3"
  },
  "language_info": {
   "codemirror_mode": {
    "name": "ipython",
    "version": 3
   },
   "file_extension": ".py",
   "mimetype": "text/x-python",
   "name": "python",
   "nbconvert_exporter": "python",
   "pygments_lexer": "ipython3",
   "version": "3.8.8"
  }
 },
 "nbformat": 4,
 "nbformat_minor": 5
}
