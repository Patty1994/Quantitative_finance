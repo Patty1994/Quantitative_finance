{
 "cells": [
  {
   "cell_type": "code",
   "execution_count": 1,
   "id": "98416fd0",
   "metadata": {},
   "outputs": [],
   "source": [
    "import numpy as np\n",
    "import pandas as pd\n",
    "from sklearn.linear_model import LinearRegression\n",
    "\n",
    "import warnings\n",
    "warnings.filterwarnings(\"ignore\")\n",
    "\n",
    "import yfinance as yf\n",
    "yf.pdr_override()"
   ]
  },
  {
   "cell_type": "code",
   "execution_count": 2,
   "id": "7ad6e3e4",
   "metadata": {},
   "outputs": [
    {
     "name": "stdout",
     "output_type": "stream",
     "text": [
      "[*********************100%***********************]  1 of 1 completed\n"
     ]
    }
   ],
   "source": [
    "symbol = 'GOOGL'\n",
    "start = '2021-01-01' \n",
    "end = '2021-12-31'\n",
    "df = yf.download(symbol, start, end)\n",
    "df = df.reset_index()"
   ]
  },
  {
   "cell_type": "code",
   "execution_count": 3,
   "id": "be7418e3",
   "metadata": {},
   "outputs": [
    {
     "data": {
      "text/html": [
       "<div>\n",
       "<style scoped>\n",
       "    .dataframe tbody tr th:only-of-type {\n",
       "        vertical-align: middle;\n",
       "    }\n",
       "\n",
       "    .dataframe tbody tr th {\n",
       "        vertical-align: top;\n",
       "    }\n",
       "\n",
       "    .dataframe thead th {\n",
       "        text-align: right;\n",
       "    }\n",
       "</style>\n",
       "<table border=\"1\" class=\"dataframe\">\n",
       "  <thead>\n",
       "    <tr style=\"text-align: right;\">\n",
       "      <th></th>\n",
       "      <th>Date</th>\n",
       "      <th>Open</th>\n",
       "      <th>High</th>\n",
       "      <th>Low</th>\n",
       "      <th>Close</th>\n",
       "      <th>Adj Close</th>\n",
       "      <th>Volume</th>\n",
       "    </tr>\n",
       "  </thead>\n",
       "  <tbody>\n",
       "    <tr>\n",
       "      <th>0</th>\n",
       "      <td>2021-01-04</td>\n",
       "      <td>1760.000000</td>\n",
       "      <td>1762.489990</td>\n",
       "      <td>1707.140015</td>\n",
       "      <td>1726.130005</td>\n",
       "      <td>1726.130005</td>\n",
       "      <td>1866200</td>\n",
       "    </tr>\n",
       "    <tr>\n",
       "      <th>1</th>\n",
       "      <td>2021-01-05</td>\n",
       "      <td>1725.089966</td>\n",
       "      <td>1746.829956</td>\n",
       "      <td>1716.900024</td>\n",
       "      <td>1740.050049</td>\n",
       "      <td>1740.050049</td>\n",
       "      <td>1018000</td>\n",
       "    </tr>\n",
       "    <tr>\n",
       "      <th>2</th>\n",
       "      <td>2021-01-06</td>\n",
       "      <td>1700.260010</td>\n",
       "      <td>1743.969971</td>\n",
       "      <td>1696.099976</td>\n",
       "      <td>1722.880005</td>\n",
       "      <td>1722.880005</td>\n",
       "      <td>2329400</td>\n",
       "    </tr>\n",
       "    <tr>\n",
       "      <th>3</th>\n",
       "      <td>2021-01-07</td>\n",
       "      <td>1726.760010</td>\n",
       "      <td>1777.819946</td>\n",
       "      <td>1726.760010</td>\n",
       "      <td>1774.339966</td>\n",
       "      <td>1774.339966</td>\n",
       "      <td>2096800</td>\n",
       "    </tr>\n",
       "    <tr>\n",
       "      <th>4</th>\n",
       "      <td>2021-01-08</td>\n",
       "      <td>1777.160034</td>\n",
       "      <td>1799.359985</td>\n",
       "      <td>1761.219971</td>\n",
       "      <td>1797.829956</td>\n",
       "      <td>1797.829956</td>\n",
       "      <td>1774200</td>\n",
       "    </tr>\n",
       "  </tbody>\n",
       "</table>\n",
       "</div>"
      ],
      "text/plain": [
       "        Date         Open         High          Low        Close    Adj Close  \\\n",
       "0 2021-01-04  1760.000000  1762.489990  1707.140015  1726.130005  1726.130005   \n",
       "1 2021-01-05  1725.089966  1746.829956  1716.900024  1740.050049  1740.050049   \n",
       "2 2021-01-06  1700.260010  1743.969971  1696.099976  1722.880005  1722.880005   \n",
       "3 2021-01-07  1726.760010  1777.819946  1726.760010  1774.339966  1774.339966   \n",
       "4 2021-01-08  1777.160034  1799.359985  1761.219971  1797.829956  1797.829956   \n",
       "\n",
       "    Volume  \n",
       "0  1866200  \n",
       "1  1018000  \n",
       "2  2329400  \n",
       "3  2096800  \n",
       "4  1774200  "
      ]
     },
     "execution_count": 3,
     "metadata": {},
     "output_type": "execute_result"
    }
   ],
   "source": [
    "df.head()\n"
   ]
  },
  {
   "cell_type": "code",
   "execution_count": 4,
   "id": "a05ca202",
   "metadata": {},
   "outputs": [
    {
     "data": {
      "text/html": [
       "<div>\n",
       "<style scoped>\n",
       "    .dataframe tbody tr th:only-of-type {\n",
       "        vertical-align: middle;\n",
       "    }\n",
       "\n",
       "    .dataframe tbody tr th {\n",
       "        vertical-align: top;\n",
       "    }\n",
       "\n",
       "    .dataframe thead th {\n",
       "        text-align: right;\n",
       "    }\n",
       "</style>\n",
       "<table border=\"1\" class=\"dataframe\">\n",
       "  <thead>\n",
       "    <tr style=\"text-align: right;\">\n",
       "      <th></th>\n",
       "      <th>Date</th>\n",
       "      <th>Open</th>\n",
       "      <th>High</th>\n",
       "      <th>Low</th>\n",
       "      <th>Close</th>\n",
       "      <th>Adj Close</th>\n",
       "      <th>Volume</th>\n",
       "    </tr>\n",
       "  </thead>\n",
       "  <tbody>\n",
       "    <tr>\n",
       "      <th>246</th>\n",
       "      <td>2021-12-23</td>\n",
       "      <td>2930.000000</td>\n",
       "      <td>2964.870117</td>\n",
       "      <td>2929.040039</td>\n",
       "      <td>2938.330078</td>\n",
       "      <td>2938.330078</td>\n",
       "      <td>1319200</td>\n",
       "    </tr>\n",
       "    <tr>\n",
       "      <th>247</th>\n",
       "      <td>2021-12-27</td>\n",
       "      <td>2945.120117</td>\n",
       "      <td>2966.879883</td>\n",
       "      <td>2943.389893</td>\n",
       "      <td>2958.129883</td>\n",
       "      <td>2958.129883</td>\n",
       "      <td>798800</td>\n",
       "    </tr>\n",
       "    <tr>\n",
       "      <th>248</th>\n",
       "      <td>2021-12-28</td>\n",
       "      <td>2964.719971</td>\n",
       "      <td>2965.979980</td>\n",
       "      <td>2921.090088</td>\n",
       "      <td>2933.739990</td>\n",
       "      <td>2933.739990</td>\n",
       "      <td>910000</td>\n",
       "    </tr>\n",
       "    <tr>\n",
       "      <th>249</th>\n",
       "      <td>2021-12-29</td>\n",
       "      <td>2932.889893</td>\n",
       "      <td>2948.340088</td>\n",
       "      <td>2912.949951</td>\n",
       "      <td>2933.100098</td>\n",
       "      <td>2933.100098</td>\n",
       "      <td>889400</td>\n",
       "    </tr>\n",
       "    <tr>\n",
       "      <th>250</th>\n",
       "      <td>2021-12-30</td>\n",
       "      <td>2933.879883</td>\n",
       "      <td>2946.000000</td>\n",
       "      <td>2919.889893</td>\n",
       "      <td>2924.010010</td>\n",
       "      <td>2924.010010</td>\n",
       "      <td>784400</td>\n",
       "    </tr>\n",
       "  </tbody>\n",
       "</table>\n",
       "</div>"
      ],
      "text/plain": [
       "          Date         Open         High          Low        Close  \\\n",
       "246 2021-12-23  2930.000000  2964.870117  2929.040039  2938.330078   \n",
       "247 2021-12-27  2945.120117  2966.879883  2943.389893  2958.129883   \n",
       "248 2021-12-28  2964.719971  2965.979980  2921.090088  2933.739990   \n",
       "249 2021-12-29  2932.889893  2948.340088  2912.949951  2933.100098   \n",
       "250 2021-12-30  2933.879883  2946.000000  2919.889893  2924.010010   \n",
       "\n",
       "       Adj Close   Volume  \n",
       "246  2938.330078  1319200  \n",
       "247  2958.129883   798800  \n",
       "248  2933.739990   910000  \n",
       "249  2933.100098   889400  \n",
       "250  2924.010010   784400  "
      ]
     },
     "execution_count": 4,
     "metadata": {},
     "output_type": "execute_result"
    }
   ],
   "source": [
    "df.tail()\n"
   ]
  },
  {
   "cell_type": "code",
   "execution_count": 8,
   "id": "a48639d4",
   "metadata": {},
   "outputs": [],
   "source": [
    "X_train = df[df.columns[1:5]] # data_aal[['open', 'high', 'low', 'close']]\n",
    "Y_train = df['Adj Close']"
   ]
  },
  {
   "cell_type": "code",
   "execution_count": 9,
   "id": "e4958e7b",
   "metadata": {},
   "outputs": [],
   "source": [
    "X_train = X_train.values[:-1]\n",
    "Y_train = Y_train.values[1:]"
   ]
  },
  {
   "cell_type": "code",
   "execution_count": 10,
   "id": "d044762f",
   "metadata": {},
   "outputs": [],
   "source": [
    "lr = LinearRegression()\n"
   ]
  },
  {
   "cell_type": "code",
   "execution_count": 11,
   "id": "1a096d8d",
   "metadata": {},
   "outputs": [
    {
     "data": {
      "text/plain": [
       "LinearRegression()"
      ]
     },
     "execution_count": 11,
     "metadata": {},
     "output_type": "execute_result"
    }
   ],
   "source": [
    "lr.fit(X_train, Y_train)\n"
   ]
  },
  {
   "cell_type": "code",
   "execution_count": 12,
   "id": "b488f799",
   "metadata": {},
   "outputs": [],
   "source": [
    "X_test = df[df.columns[1:5]].values[:-1]\n",
    "Y_test = df['Adj Close'].values[1:]"
   ]
  },
  {
   "cell_type": "code",
   "execution_count": 13,
   "id": "09150b7c",
   "metadata": {},
   "outputs": [
    {
     "data": {
      "text/plain": [
       "0.99032030633022"
      ]
     },
     "execution_count": 13,
     "metadata": {},
     "output_type": "execute_result"
    }
   ],
   "source": [
    "lr.score(X_test, Y_test)\n"
   ]
  },
  {
   "cell_type": "code",
   "execution_count": 14,
   "id": "cf6db99c",
   "metadata": {},
   "outputs": [
    {
     "name": "stdout",
     "output_type": "stream",
     "text": [
      "Open: 2933.879883\n",
      "High: 2946.000000\t\n",
      "Low: 2919.889893\n",
      "Close: 2924.010010\n",
      "My Prediction the opening price will be: 2924.225751704691\n"
     ]
    }
   ],
   "source": [
    "opening_price = float(input('Open: '))\n",
    "high = float(input('High: '))\n",
    "low = float(input('Low: '))\n",
    "close = float(input('Close: '))\n",
    "print('My Prediction the opening price will be:', lr.predict([[opening_price, high, low, close]])[0])"
   ]
  },
  {
   "cell_type": "code",
   "execution_count": null,
   "id": "eef567d9",
   "metadata": {},
   "outputs": [],
   "source": []
  }
 ],
 "metadata": {
  "kernelspec": {
   "display_name": "Python 3",
   "language": "python",
   "name": "python3"
  },
  "language_info": {
   "codemirror_mode": {
    "name": "ipython",
    "version": 3
   },
   "file_extension": ".py",
   "mimetype": "text/x-python",
   "name": "python",
   "nbconvert_exporter": "python",
   "pygments_lexer": "ipython3",
   "version": "3.8.8"
  }
 },
 "nbformat": 4,
 "nbformat_minor": 5
}
