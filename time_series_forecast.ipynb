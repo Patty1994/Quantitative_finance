{
 "cells": [
  {
   "cell_type": "code",
   "execution_count": null,
   "id": "e74ad28e",
   "metadata": {},
   "outputs": [],
   "source": [
    "pip install fbprophet"
   ]
  },
  {
   "cell_type": "code",
   "execution_count": null,
   "id": "b96f14c8",
   "metadata": {},
   "outputs": [],
   "source": [
    "import pandas as pd\n",
    "import numpy as np\n",
    "import matplotlib.pyplot as plt\n",
    "from fbprophet import Prophet\n",
    "import fix_yahoo_finance as yf\n",
    "from pandas_datareader import data as pdr"
   ]
  },
  {
   "cell_type": "code",
   "execution_count": null,
   "id": "93e3079a",
   "metadata": {},
   "outputs": [],
   "source": [
    "stock = 'GOOGL'\n",
    "start = '2021-01-01' \n",
    "end = '2021-12-31'\n",
    "df = pdr.get_data_yahoo(stock, start, end)"
   ]
  },
  {
   "cell_type": "code",
   "execution_count": null,
   "id": "9533ef20",
   "metadata": {},
   "outputs": [],
   "source": [
    "df.shape\n"
   ]
  },
  {
   "cell_type": "code",
   "execution_count": null,
   "id": "b9c504a9",
   "metadata": {},
   "outputs": [],
   "source": [
    "df.head()"
   ]
  },
  {
   "cell_type": "code",
   "execution_count": null,
   "id": "ba0fb08a",
   "metadata": {},
   "outputs": [],
   "source": [
    "df['Adj Close'].plot(figsize=(12,8))\n",
    "plt.show()"
   ]
  },
  {
   "cell_type": "code",
   "execution_count": null,
   "id": "284cf4db",
   "metadata": {},
   "outputs": [],
   "source": [
    "df = df.reset_index().rename(columns={'Date':'ds', 'Adj Close':'y'})\n"
   ]
  },
  {
   "cell_type": "code",
   "execution_count": null,
   "id": "bcc9429d",
   "metadata": {},
   "outputs": [],
   "source": [
    "# Log Transform Data\n",
    "df['y'] = pd.DataFrame(np.log(df['y']))\n",
    "\n",
    "# plot data\n",
    "ax = df['y'].plot(color='#006699');\n",
    "ax.set_ylabel('Price');\n",
    "ax.set_xlabel('Date');\n",
    "plt.show()\n"
   ]
  },
  {
   "cell_type": "code",
   "execution_count": null,
   "id": "0118595b",
   "metadata": {},
   "outputs": [],
   "source": []
  }
 ],
 "metadata": {
  "kernelspec": {
   "display_name": "Python 3",
   "language": "python",
   "name": "python3"
  }
 },
 "nbformat": 4,
 "nbformat_minor": 5
}
